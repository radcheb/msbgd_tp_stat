{
 "cells": [
  {
   "cell_type": "markdown",
   "metadata": {},
   "source": [
    "## Introduction à Python, Numpy et Scipy"
   ]
  },
  {
   "cell_type": "markdown",
   "metadata": {},
   "source": [
    "1) Écrire une fonction nextpower qui calcule la première puissance de 2 supérieure ou égale à un nombre n (on veillera à ce que le type de sortie soit un int, tester cela avec type par exemple)."
   ]
  },
  {
   "cell_type": "code",
   "execution_count": 11,
   "metadata": {},
   "outputs": [],
   "source": [
    "\"\"\"Return the smallest power of 2 greater or equel to n\n",
    "\"\"\"\n",
    "def nextpower(n):\n",
    "    from math import log2, ceil, pow\n",
    "    if(n < 1):\n",
    "        return 1\n",
    "    else:\n",
    "        return 2 ** ceil(log2(n))"
   ]
  },
  {
   "cell_type": "code",
   "execution_count": 2,
   "metadata": {},
   "outputs": [],
   "source": [
    "n = 1000000000000000000000000\n",
    "assert (type(nextpower(n)) is int), \"Result must be int\""
   ]
  },
  {
   "cell_type": "markdown",
   "metadata": {},
   "source": [
    "2) En partant du mot contenant toutes les lettres de l’alphabet, générer par une opération de slicing la chaîne de caractère cfilorux et, de deux façons différentes, la chaîne de caractère vxz."
   ]
  },
  {
   "cell_type": "code",
   "execution_count": 15,
   "metadata": {},
   "outputs": [
    {
     "data": {
      "text/plain": [
       "'cfilorux'"
      ]
     },
     "execution_count": 15,
     "metadata": {},
     "output_type": "execute_result"
    }
   ],
   "source": [
    "from string import ascii_lowercase\n",
    "base = ascii_lowercase\n",
    "cfilorux = base[2::3]\n",
    "assert (cfilorux == \"cfilorux\"), \"cfilorux is not correct\"\n",
    "cfilorux"
   ]
  },
  {
   "cell_type": "code",
   "execution_count": 19,
   "metadata": {},
   "outputs": [
    {
     "data": {
      "text/plain": [
       "'vxz'"
      ]
     },
     "execution_count": 19,
     "metadata": {},
     "output_type": "execute_result"
    }
   ],
   "source": [
    "vxz_1 = base[21::2]\n",
    "assert (vxz_1 == \"vxz\"), \"vxz is not correct\"\n",
    "vxz_1"
   ]
  },
  {
   "cell_type": "code",
   "execution_count": 31,
   "metadata": {},
   "outputs": [
    {
     "data": {
      "text/plain": [
       "'vxz'"
      ]
     },
     "execution_count": 31,
     "metadata": {},
     "output_type": "execute_result"
    }
   ],
   "source": [
    "vxz_2 = base[:-6:-2][::-1]\n",
    "assert (vxz_2 == \"vxz\"), \"vxz is not correct\"\n",
    "vxz_2"
   ]
  },
  {
   "cell_type": "markdown",
   "metadata": {},
   "source": [
    "3) Afficher le nombre π avec 9 décimales après la virgule."
   ]
  },
  {
   "cell_type": "code",
   "execution_count": 37,
   "metadata": {},
   "outputs": [
    {
     "name": "stdout",
     "output_type": "stream",
     "text": [
      "3.141592654\n"
     ]
    }
   ],
   "source": [
    "from math import pi\n",
    "print( \"%.9f\" % pi)"
   ]
  },
  {
   "cell_type": "markdown",
   "metadata": {},
   "source": [
    "4) Compter le nombre d’occurrences de chaque caractère dans la chaîne de caractères s=\"HelLo WorLd!!\". On renverra un dictionnaire qui à chaque lettre associe son nombre d’occurrences."
   ]
  },
  {
   "cell_type": "code",
   "execution_count": 40,
   "metadata": {},
   "outputs": [
    {
     "data": {
      "text/plain": [
       "{' ': 1,\n",
       " '!': 2,\n",
       " 'H': 1,\n",
       " 'L': 2,\n",
       " 'W': 1,\n",
       " 'd': 1,\n",
       " 'e': 1,\n",
       " 'l': 1,\n",
       " 'o': 2,\n",
       " 'r': 1}"
      ]
     },
     "execution_count": 40,
     "metadata": {},
     "output_type": "execute_result"
    }
   ],
   "source": [
    "from collections import Counter\n",
    "s=\"HelLo WorLd!!\"\n",
    "dict(Counter(s))"
   ]
  },
  {
   "cell_type": "markdown",
   "metadata": {},
   "source": [
    "5) Écrire une fonction de codage par inversion de lettres 1 : chaque lettre d’un mot est remplacée par une (et une seule) autre. On se servira de la fonction shuffle sur la chaîne de caractères contenant tout l’alphabet pour associer les lettres codées."
   ]
  },
  {
   "cell_type": "code",
   "execution_count": 84,
   "metadata": {},
   "outputs": [],
   "source": [
    "\"\"\"Return the input string s encoded with key k\n",
    "\"\"\"\n",
    "def cesar_encrypt(s, key):\n",
    "    from string import ascii_lowercase\n",
    "    key_map = {ascii_lowercase[i]:key[i] for i in range(0, len(ascii_lowercase))}\n",
    "    key_map[\" \"] = \" \"\n",
    "    return \"\".join([key_map[c] if c in key_map else c for c in s.lower()])\n",
    "\n",
    "\"\"\"Return the input string s decoded with key k\n",
    "\"\"\"\n",
    "def cesar_decrypt(s, key):\n",
    "    from string import ascii_lowercase\n",
    "    key_map = {key[i]:ascii_lowercase[i] for i in range(0, len(ascii_lowercase))}\n",
    "    key_map[\" \"] = \" \"\n",
    "    return \"\".join([key_map[c] if c in key_map else c for c in s.lower()])"
   ]
  },
  {
   "cell_type": "code",
   "execution_count": 86,
   "metadata": {},
   "outputs": [
    {
     "data": {
      "text/plain": [
       "'bozg zg c bhgb gbjzvt.'"
      ]
     },
     "metadata": {},
     "output_type": "display_data"
    },
    {
     "data": {
      "text/plain": [
       "'this is a test string.'"
      ]
     },
     "metadata": {},
     "output_type": "display_data"
    }
   ],
   "source": [
    "from string import ascii_lowercase\n",
    "from  random import shuffle\n",
    "\n",
    "# Build a random key\n",
    "str_var = list(ascii_lowercase)\n",
    "random.shuffle(str_var)\n",
    "key= \"\".join(str_var)\n",
    "\n",
    "test = \"This is a test string.\"\n",
    "encrypted = cesar_encrypt(test, key)\n",
    "display(encrypted)\n",
    "decrypted = cesar_decrypt(encrypted, key)\n",
    "display(decrypted)\n",
    "assert (decrypted == test.lower()), \"Decrypted string must be same as encrypted\""
   ]
  },
  {
   "cell_type": "markdown",
   "metadata": {},
   "source": [
    "6) Calculer 2 4k2  ́ 1 efficacement. On pourra utiliser time (ou %timeit) pour déterminer la rapidité de votre méthode. \n",
    "Proposer une version avec et une version sans boucle (utilisant Numpy).\n"
   ]
  },
  {
   "cell_type": "code",
   "execution_count": 112,
   "metadata": {},
   "outputs": [
    {
     "name": "stdout",
     "output_type": "stream",
     "text": [
      "573 ms ± 23.1 ms per loop (mean ± std. dev. of 7 runs, 1 loop each)\n"
     ]
    }
   ],
   "source": [
    "def compute_PI_1(N_max):\n",
    "    result = 2\n",
    "    for k in range(1, N_max):\n",
    "        result *= (4 * k**2) / (4 * k**2 - 1)\n",
    "    return result\n",
    "%timeit compute_PI_1(1000000)"
   ]
  },
  {
   "cell_type": "code",
   "execution_count": 120,
   "metadata": {},
   "outputs": [
    {
     "name": "stdout",
     "output_type": "stream",
     "text": [
      "614 ms ± 19.9 ms per loop (mean ± std. dev. of 7 runs, 1 loop each)\n"
     ]
    }
   ],
   "source": [
    "def compute_PI_2(N_max):\n",
    "    import numpy as np\n",
    "    def iterable():\n",
    "        for k in range(1, N_max):\n",
    "            yield ((4 * k**2) / (4 * k**2 - 1))\n",
    "    array = np.fromiter(iterable(), float)\n",
    "    return (2 * np.prod(array))\n",
    "%timeit compute_PI_2(1000000)"
   ]
  },
  {
   "cell_type": "markdown",
   "metadata": {},
   "source": [
    "7) Créer une fonction quicksort qui trie une liste, en remplissant les éléments manquants dans le code suivant. On testera que la fonction est correcte sur l’exemple quicksort([-2, 3, 5, 1, 3]) :"
   ]
  },
  {
   "cell_type": "code",
   "execution_count": 127,
   "metadata": {},
   "outputs": [],
   "source": [
    "def quicksort(ll):\n",
    "    \"\"\" a sorting algorithm with a pivot value\"\"\"\n",
    "    if len(ll) <= 1:\n",
    "        return ll\n",
    "    else:\n",
    "        pivot = ll.pop() # pivot = last element of the list ll. less = []\n",
    "        less = []\n",
    "        greater = []\n",
    "        for x in ll:\n",
    "            if x <= pivot:\n",
    "                less.append(x) # append 'x' to 'less'\n",
    "            else:\n",
    "                greater.append(x) # append 'x' to 'greater'\n",
    "        return quicksort(less) + [pivot] + quicksort(greater) # concatenate quicksort(less), pivot and quicksort(greater)"
   ]
  },
  {
   "cell_type": "code",
   "execution_count": 128,
   "metadata": {},
   "outputs": [
    {
     "data": {
      "text/plain": [
       "[-2, 1, 3, 3, 5]"
      ]
     },
     "execution_count": 128,
     "metadata": {},
     "output_type": "execute_result"
    }
   ],
   "source": [
    "quicksort([-2, 3, 5, 1, 3])"
   ]
  },
  {
   "cell_type": "markdown",
   "metadata": {},
   "source": [
    "8) Sans utiliser de boucles for / while : créer une matrice M ∈ R5ˆ6 aléatoire à coefficients uniformes dans [-1, 1] puis remplacer une colonne sur deux par sa valeur moins le double de la colonne suivante. Remplacer enfin les valeurs négatives par 0 en utilisant un masque binaire."
   ]
  },
  {
   "cell_type": "code",
   "execution_count": 151,
   "metadata": {},
   "outputs": [
    {
     "data": {
      "text/plain": [
       "array([[0.        , 0.98606932, 0.        , 1.64414088, 0.        ,\n",
       "        0.8962324 ],\n",
       "       [0.        , 0.1017477 , 0.        , 2.12656483, 0.41528819,\n",
       "        0.07950009],\n",
       "       [0.75534915, 0.        , 0.        , 0.76743414, 0.        ,\n",
       "        0.05688309],\n",
       "       [0.27054415, 0.        , 0.44632606, 0.        , 0.        ,\n",
       "        1.59609877],\n",
       "       [0.        , 2.56455985, 0.        , 0.11302868, 0.1411047 ,\n",
       "        0.46785191]])"
      ]
     },
     "execution_count": 151,
     "metadata": {},
     "output_type": "execute_result"
    }
   ],
   "source": [
    "import numpy as np\n",
    "# Create 5x6 matrix\n",
    "A_mat = np.random.uniform(-1,1,(5,6))\n",
    "# Create a mask to select pair columns\n",
    "mask = np.array([[0, 1, 0, 1, 0, 1], \n",
    "                 [0, 1, 0, 1, 0, 1], \n",
    "                 [0, 1, 0, 1, 0, 1], \n",
    "                 [0, 1, 0, 1, 0, 1], \n",
    "                 [0, 1, 0, 1, 0, 1]])\n",
    "result = A_mat - 2* np.roll(A_mat, 1) * mask\n",
    "# Binary mask for negative values\n",
    "binary_mask = result < 0\n",
    "# Apply binary mask\n",
    "result[binary_mask] = 0\n",
    "result"
   ]
  },
  {
   "cell_type": "markdown",
   "metadata": {},
   "source": [
    "9) Créer une matrice M ∈ R5ˆ20 aléatoire à coefficients uniformes dans [-1,1]. Tester que G = M^T M est symétrique et que ses valeurs propres sont positives (on parle de alors de matrice définie positive). Quel est le rang de G ?\n",
    "Aide : on utilisera par exemple np.allclose, np.logical_not, np.all pour les tests numériques."
   ]
  },
  {
   "cell_type": "code",
   "execution_count": 177,
   "metadata": {},
   "outputs": [],
   "source": [
    "import numpy as np\n",
    "\n",
    "M_mat = np.random.uniform(-1,1,(5,20))\n",
    "G_mat = M_mat.T @ M_mat\n",
    "# G est symétrique, i.e égale à sa transposée\n",
    "assert (np.allclose(G_mat, G_mat.T)), \"G n'est pas symétrique !\"\n",
    "assert ( (np.linalg.eigvalsh(G_mat) + 1e-08 >= 0).all() ), \"There is negative eigen values\"\n",
    "# G égal M.T * M et M de rang maximum 5 donc G de rang 5\n",
    "assert (np.linalg.matrix_rank(G_mat) == 5 ), \"G n'est pas de rang 5\""
   ]
  },
  {
   "cell_type": "code",
   "execution_count": null,
   "metadata": {},
   "outputs": [],
   "source": []
  },
  {
   "cell_type": "markdown",
   "metadata": {},
   "source": [
    "## Introduction à Pandas, Matplotlib, etc"
   ]
  },
  {
   "cell_type": "markdown",
   "metadata": {},
   "source": [
    "On utilise la base de données Individual household electric power consumption Data Set, que l’on pourra télécharger depuis https://bitbucket.org/portierf/shared_files/downloads/ household_power_consumption.txt.\n",
    "On s’intéresse aux grandeurs Global_active_power et Sub_metering_1."
   ]
  },
  {
   "cell_type": "markdown",
   "metadata": {},
   "source": [
    "10) Charger la base puis détecter et dénombrer le nombre de lignes ayant des valeurs manquantes."
   ]
  },
  {
   "cell_type": "code",
   "execution_count": 64,
   "metadata": {},
   "outputs": [
    {
     "name": "stderr",
     "output_type": "stream",
     "text": [
      "/cal/softs/anaconda/anaconda3/lib/python3.5/site-packages/IPython/core/interactiveshell.py:2785: DtypeWarning: Columns (2,3,4,5,6,7) have mixed types. Specify dtype option on import or set low_memory=False.\n",
      "  interactivity=interactivity, compiler=compiler, result=result)\n"
     ]
    },
    {
     "data": {
      "text/html": [
       "<div>\n",
       "<style scoped>\n",
       "    .dataframe tbody tr th:only-of-type {\n",
       "        vertical-align: middle;\n",
       "    }\n",
       "\n",
       "    .dataframe tbody tr th {\n",
       "        vertical-align: top;\n",
       "    }\n",
       "\n",
       "    .dataframe thead th {\n",
       "        text-align: right;\n",
       "    }\n",
       "</style>\n",
       "<table border=\"1\" class=\"dataframe\">\n",
       "  <thead>\n",
       "    <tr style=\"text-align: right;\">\n",
       "      <th></th>\n",
       "      <th>Date</th>\n",
       "      <th>Time</th>\n",
       "      <th>Global_active_power</th>\n",
       "      <th>Global_reactive_power</th>\n",
       "      <th>Voltage</th>\n",
       "      <th>Global_intensity</th>\n",
       "      <th>Sub_metering_1</th>\n",
       "      <th>Sub_metering_2</th>\n",
       "      <th>Sub_metering_3</th>\n",
       "    </tr>\n",
       "  </thead>\n",
       "  <tbody>\n",
       "    <tr>\n",
       "      <th>0</th>\n",
       "      <td>16/12/2006</td>\n",
       "      <td>17:24:00</td>\n",
       "      <td>4.216</td>\n",
       "      <td>0.418</td>\n",
       "      <td>234.840</td>\n",
       "      <td>18.400</td>\n",
       "      <td>0.000</td>\n",
       "      <td>1.000</td>\n",
       "      <td>17.0</td>\n",
       "    </tr>\n",
       "    <tr>\n",
       "      <th>1</th>\n",
       "      <td>16/12/2006</td>\n",
       "      <td>17:25:00</td>\n",
       "      <td>5.360</td>\n",
       "      <td>0.436</td>\n",
       "      <td>233.630</td>\n",
       "      <td>23.000</td>\n",
       "      <td>0.000</td>\n",
       "      <td>1.000</td>\n",
       "      <td>16.0</td>\n",
       "    </tr>\n",
       "    <tr>\n",
       "      <th>2</th>\n",
       "      <td>16/12/2006</td>\n",
       "      <td>17:26:00</td>\n",
       "      <td>5.374</td>\n",
       "      <td>0.498</td>\n",
       "      <td>233.290</td>\n",
       "      <td>23.000</td>\n",
       "      <td>0.000</td>\n",
       "      <td>2.000</td>\n",
       "      <td>17.0</td>\n",
       "    </tr>\n",
       "    <tr>\n",
       "      <th>3</th>\n",
       "      <td>16/12/2006</td>\n",
       "      <td>17:27:00</td>\n",
       "      <td>5.388</td>\n",
       "      <td>0.502</td>\n",
       "      <td>233.740</td>\n",
       "      <td>23.000</td>\n",
       "      <td>0.000</td>\n",
       "      <td>1.000</td>\n",
       "      <td>17.0</td>\n",
       "    </tr>\n",
       "    <tr>\n",
       "      <th>4</th>\n",
       "      <td>16/12/2006</td>\n",
       "      <td>17:28:00</td>\n",
       "      <td>3.666</td>\n",
       "      <td>0.528</td>\n",
       "      <td>235.680</td>\n",
       "      <td>15.800</td>\n",
       "      <td>0.000</td>\n",
       "      <td>1.000</td>\n",
       "      <td>17.0</td>\n",
       "    </tr>\n",
       "  </tbody>\n",
       "</table>\n",
       "</div>"
      ],
      "text/plain": [
       "         Date      Time Global_active_power Global_reactive_power  Voltage  \\\n",
       "0  16/12/2006  17:24:00               4.216                 0.418  234.840   \n",
       "1  16/12/2006  17:25:00               5.360                 0.436  233.630   \n",
       "2  16/12/2006  17:26:00               5.374                 0.498  233.290   \n",
       "3  16/12/2006  17:27:00               5.388                 0.502  233.740   \n",
       "4  16/12/2006  17:28:00               3.666                 0.528  235.680   \n",
       "\n",
       "  Global_intensity Sub_metering_1 Sub_metering_2  Sub_metering_3  \n",
       "0           18.400          0.000          1.000            17.0  \n",
       "1           23.000          0.000          1.000            16.0  \n",
       "2           23.000          0.000          2.000            17.0  \n",
       "3           23.000          0.000          1.000            17.0  \n",
       "4           15.800          0.000          1.000            17.0  "
      ]
     },
     "execution_count": 64,
     "metadata": {},
     "output_type": "execute_result"
    }
   ],
   "source": [
    "import pandas as pd\n",
    "\n",
    "url = \"https://bitbucket.org/portierf/shared_files/downloads/household_power_consumption.txt\"\n",
    "full_base = pd.read_csv(url, delimiter=\";\")\n",
    "# base = full_base.sample(frac=0.01)\n",
    "base = full_base\n",
    "base.head()"
   ]
  },
  {
   "cell_type": "code",
   "execution_count": 65,
   "metadata": {},
   "outputs": [
    {
     "data": {
      "text/plain": [
       "Date                         0\n",
       "Time                         0\n",
       "Global_active_power      25979\n",
       "Global_reactive_power    25979\n",
       "Voltage                  25979\n",
       "Global_intensity         25979\n",
       "Sub_metering_1           25979\n",
       "Sub_metering_2           25979\n",
       "Sub_metering_3           25979\n",
       "dtype: int64"
      ]
     },
     "execution_count": 65,
     "metadata": {},
     "output_type": "execute_result"
    }
   ],
   "source": [
    "for c in [\"Global_active_power\", \"Global_reactive_power\", \"Voltage\", \"Global_intensity\", \n",
    "          \"Sub_metering_1\", \"Sub_metering_2\", \"Sub_metering_3\"]:\n",
    "    base[c] = base[c].apply(pd.to_numeric, errors=\"coerce\")\n",
    "    \n",
    "pd.isnull(base).sum()"
   ]
  },
  {
   "cell_type": "markdown",
   "metadata": {},
   "source": [
    "Il y a 25979 lignes avec des valeurs manquantes donc 181853 valuers manquantes au total."
   ]
  },
  {
   "cell_type": "markdown",
   "metadata": {},
   "source": [
    "11) Supprimer toutes les lignes avec des valeurs manquantes."
   ]
  },
  {
   "cell_type": "code",
   "execution_count": 66,
   "metadata": {},
   "outputs": [
    {
     "data": {
      "text/plain": [
       "Date                     0\n",
       "Time                     0\n",
       "Global_active_power      0\n",
       "Global_reactive_power    0\n",
       "Voltage                  0\n",
       "Global_intensity         0\n",
       "Sub_metering_1           0\n",
       "Sub_metering_2           0\n",
       "Sub_metering_3           0\n",
       "dtype: int64"
      ]
     },
     "execution_count": 66,
     "metadata": {},
     "output_type": "execute_result"
    }
   ],
   "source": [
    "clean_base = base.dropna()\n",
    "pd.isnull(clean_base).sum()"
   ]
  },
  {
   "cell_type": "markdown",
   "metadata": {},
   "source": [
    "12) Modifier la variable Sub_metering_1 en la multipliant par 0.06."
   ]
  },
  {
   "cell_type": "code",
   "execution_count": 67,
   "metadata": {},
   "outputs": [
    {
     "name": "stderr",
     "output_type": "stream",
     "text": [
      "/cal/softs/anaconda/anaconda3/lib/python3.5/site-packages/ipykernel_launcher.py:1: SettingWithCopyWarning: \n",
      "A value is trying to be set on a copy of a slice from a DataFrame.\n",
      "Try using .loc[row_indexer,col_indexer] = value instead\n",
      "\n",
      "See the caveats in the documentation: http://pandas.pydata.org/pandas-docs/stable/indexing.html#indexing-view-versus-copy\n",
      "  \"\"\"Entry point for launching an IPython kernel.\n"
     ]
    }
   ],
   "source": [
    "clean_base[\"Sub_metering_1\"] = clean_base[\"Sub_metering_1\"].apply(lambda x: x * 0.06)"
   ]
  },
  {
   "cell_type": "markdown",
   "metadata": {},
   "source": [
    "13) Utiliser to_datetime et set_index pour créer un DataFrame (on prendra garde au format des dates internationales qui diffère du format français)."
   ]
  },
  {
   "cell_type": "code",
   "execution_count": 68,
   "metadata": {},
   "outputs": [
    {
     "name": "stderr",
     "output_type": "stream",
     "text": [
      "/cal/softs/anaconda/anaconda3/lib/python3.5/site-packages/ipykernel_launcher.py:1: SettingWithCopyWarning: \n",
      "A value is trying to be set on a copy of a slice from a DataFrame.\n",
      "Try using .loc[row_indexer,col_indexer] = value instead\n",
      "\n",
      "See the caveats in the documentation: http://pandas.pydata.org/pandas-docs/stable/indexing.html#indexing-view-versus-copy\n",
      "  \"\"\"Entry point for launching an IPython kernel.\n"
     ]
    },
    {
     "data": {
      "text/html": [
       "<div>\n",
       "<style scoped>\n",
       "    .dataframe tbody tr th:only-of-type {\n",
       "        vertical-align: middle;\n",
       "    }\n",
       "\n",
       "    .dataframe tbody tr th {\n",
       "        vertical-align: top;\n",
       "    }\n",
       "\n",
       "    .dataframe thead th {\n",
       "        text-align: right;\n",
       "    }\n",
       "</style>\n",
       "<table border=\"1\" class=\"dataframe\">\n",
       "  <thead>\n",
       "    <tr style=\"text-align: right;\">\n",
       "      <th></th>\n",
       "      <th>Date</th>\n",
       "      <th>Time</th>\n",
       "      <th>Global_active_power</th>\n",
       "      <th>Global_reactive_power</th>\n",
       "      <th>Voltage</th>\n",
       "      <th>Global_intensity</th>\n",
       "      <th>Sub_metering_1</th>\n",
       "      <th>Sub_metering_2</th>\n",
       "      <th>Sub_metering_3</th>\n",
       "    </tr>\n",
       "    <tr>\n",
       "      <th>Datetime</th>\n",
       "      <th></th>\n",
       "      <th></th>\n",
       "      <th></th>\n",
       "      <th></th>\n",
       "      <th></th>\n",
       "      <th></th>\n",
       "      <th></th>\n",
       "      <th></th>\n",
       "      <th></th>\n",
       "    </tr>\n",
       "  </thead>\n",
       "  <tbody>\n",
       "    <tr>\n",
       "      <th>2006-12-16 17:24:00</th>\n",
       "      <td>2006-12-16</td>\n",
       "      <td>17:24:00</td>\n",
       "      <td>4.216</td>\n",
       "      <td>0.418</td>\n",
       "      <td>234.84</td>\n",
       "      <td>18.4</td>\n",
       "      <td>0.0</td>\n",
       "      <td>1.0</td>\n",
       "      <td>17.0</td>\n",
       "    </tr>\n",
       "    <tr>\n",
       "      <th>2006-12-16 17:25:00</th>\n",
       "      <td>2006-12-16</td>\n",
       "      <td>17:25:00</td>\n",
       "      <td>5.360</td>\n",
       "      <td>0.436</td>\n",
       "      <td>233.63</td>\n",
       "      <td>23.0</td>\n",
       "      <td>0.0</td>\n",
       "      <td>1.0</td>\n",
       "      <td>16.0</td>\n",
       "    </tr>\n",
       "    <tr>\n",
       "      <th>2006-12-16 17:26:00</th>\n",
       "      <td>2006-12-16</td>\n",
       "      <td>17:26:00</td>\n",
       "      <td>5.374</td>\n",
       "      <td>0.498</td>\n",
       "      <td>233.29</td>\n",
       "      <td>23.0</td>\n",
       "      <td>0.0</td>\n",
       "      <td>2.0</td>\n",
       "      <td>17.0</td>\n",
       "    </tr>\n",
       "    <tr>\n",
       "      <th>2006-12-16 17:27:00</th>\n",
       "      <td>2006-12-16</td>\n",
       "      <td>17:27:00</td>\n",
       "      <td>5.388</td>\n",
       "      <td>0.502</td>\n",
       "      <td>233.74</td>\n",
       "      <td>23.0</td>\n",
       "      <td>0.0</td>\n",
       "      <td>1.0</td>\n",
       "      <td>17.0</td>\n",
       "    </tr>\n",
       "    <tr>\n",
       "      <th>2006-12-16 17:28:00</th>\n",
       "      <td>2006-12-16</td>\n",
       "      <td>17:28:00</td>\n",
       "      <td>3.666</td>\n",
       "      <td>0.528</td>\n",
       "      <td>235.68</td>\n",
       "      <td>15.8</td>\n",
       "      <td>0.0</td>\n",
       "      <td>1.0</td>\n",
       "      <td>17.0</td>\n",
       "    </tr>\n",
       "  </tbody>\n",
       "</table>\n",
       "</div>"
      ],
      "text/plain": [
       "                          Date      Time  Global_active_power  \\\n",
       "Datetime                                                        \n",
       "2006-12-16 17:24:00 2006-12-16  17:24:00                4.216   \n",
       "2006-12-16 17:25:00 2006-12-16  17:25:00                5.360   \n",
       "2006-12-16 17:26:00 2006-12-16  17:26:00                5.374   \n",
       "2006-12-16 17:27:00 2006-12-16  17:27:00                5.388   \n",
       "2006-12-16 17:28:00 2006-12-16  17:28:00                3.666   \n",
       "\n",
       "                     Global_reactive_power  Voltage  Global_intensity  \\\n",
       "Datetime                                                                \n",
       "2006-12-16 17:24:00                  0.418   234.84              18.4   \n",
       "2006-12-16 17:25:00                  0.436   233.63              23.0   \n",
       "2006-12-16 17:26:00                  0.498   233.29              23.0   \n",
       "2006-12-16 17:27:00                  0.502   233.74              23.0   \n",
       "2006-12-16 17:28:00                  0.528   235.68              15.8   \n",
       "\n",
       "                     Sub_metering_1  Sub_metering_2  Sub_metering_3  \n",
       "Datetime                                                             \n",
       "2006-12-16 17:24:00             0.0             1.0            17.0  \n",
       "2006-12-16 17:25:00             0.0             1.0            16.0  \n",
       "2006-12-16 17:26:00             0.0             2.0            17.0  \n",
       "2006-12-16 17:27:00             0.0             1.0            17.0  \n",
       "2006-12-16 17:28:00             0.0             1.0            17.0  "
      ]
     },
     "execution_count": 68,
     "metadata": {},
     "output_type": "execute_result"
    }
   ],
   "source": [
    "clean_base[\"Datetime\"] = pd.to_datetime(clean_base['Date'].map(str) + clean_base['Time'], format=\"%d/%m/%Y%H:%M:%S\")\n",
    "df = clean_base.set_index(\"Datetime\")\n",
    "df['Date'] = pd.to_datetime(df['Date'], format=\"%d/%m/%Y\")\n",
    "df.head()"
   ]
  },
  {
   "cell_type": "markdown",
   "metadata": {},
   "source": [
    "14) Afficher le graphique des moyennes journalières entre le 1er janvier et le 30 avril 2007. Proposer une cause expliquant la consommation fin février et début avril. On pourra utiliser en plus de matplotlib le package seaborn pour améliorer le rendu visuel."
   ]
  },
  {
   "cell_type": "code",
   "execution_count": 69,
   "metadata": {},
   "outputs": [
    {
     "name": "stdout",
     "output_type": "stream",
     "text": [
      "Requirement already satisfied: seaborn in /cal/homes/rchebaane/.local/lib/python3.5/site-packages (0.9.0)\n",
      "Requirement already satisfied: matplotlib>=1.4.3 in /cal/softs/anaconda/anaconda3/lib/python3.5/site-packages (from seaborn) (2.2.3)\n",
      "Requirement already satisfied: pandas>=0.15.2 in /cal/softs/anaconda/anaconda3/lib/python3.5/site-packages (from seaborn) (0.23.1)\n",
      "Requirement already satisfied: scipy>=0.14.0 in /cal/softs/anaconda/anaconda3/lib/python3.5/site-packages (from seaborn) (1.1.0)\n",
      "Requirement already satisfied: numpy>=1.9.3 in /cal/softs/anaconda/anaconda3/lib/python3.5/site-packages (from seaborn) (1.14.2)\n",
      "Requirement already satisfied: cycler>=0.10 in /cal/softs/anaconda/anaconda3/lib/python3.5/site-packages (from matplotlib>=1.4.3->seaborn) (0.10.0)\n",
      "Requirement already satisfied: pyparsing!=2.0.4,!=2.1.2,!=2.1.6,>=2.0.1 in /cal/softs/anaconda/anaconda3/lib/python3.5/site-packages (from matplotlib>=1.4.3->seaborn) (2.2.0)\n",
      "Requirement already satisfied: python-dateutil>=2.1 in /cal/softs/anaconda/anaconda3/lib/python3.5/site-packages (from matplotlib>=1.4.3->seaborn) (2.7.3)\n",
      "Requirement already satisfied: pytz in /cal/softs/anaconda/anaconda3/lib/python3.5/site-packages (from matplotlib>=1.4.3->seaborn) (2018.4)\n",
      "Requirement already satisfied: six>=1.10 in /cal/softs/anaconda/anaconda3/lib/python3.5/site-packages (from matplotlib>=1.4.3->seaborn) (1.11.0)\n",
      "Requirement already satisfied: kiwisolver>=1.0.1 in /cal/softs/anaconda/anaconda3/lib/python3.5/site-packages (from matplotlib>=1.4.3->seaborn) (1.0.1)\n",
      "Requirement already satisfied: setuptools in /cal/softs/anaconda/anaconda3/lib/python3.5/site-packages (from kiwisolver>=1.0.1->matplotlib>=1.4.3->seaborn) (39.2.0)\n",
      "\u001b[31mdistributed 1.22.0 requires msgpack, which is not installed.\u001b[0m\n",
      "\u001b[33mYou are using pip version 10.0.1, however version 18.0 is available.\n",
      "You should consider upgrading via the 'pip install --upgrade pip' command.\u001b[0m\n"
     ]
    }
   ],
   "source": [
    "!pip install --user seaborn"
   ]
  },
  {
   "cell_type": "code",
   "execution_count": 70,
   "metadata": {},
   "outputs": [],
   "source": [
    "import matplotlib.pyplot as plt\n",
    "plt.style.use('classic')\n",
    "%matplotlib inline\n",
    "import seaborn as sns\n",
    "sns.set(rc={'figure.figsize':(11.7,8.27)})"
   ]
  },
  {
   "cell_type": "code",
   "execution_count": 71,
   "metadata": {},
   "outputs": [
    {
     "data": {
      "text/plain": [
       "1"
      ]
     },
     "execution_count": 71,
     "metadata": {},
     "output_type": "execute_result"
    },
    {
     "data": {
      "image/png": "[encoded data removed]",
      "text/plain": [
       "<Figure size 842.4x595.44 with 1 Axes>"
      ]
     },
     "metadata": {},
     "output_type": "display_data"
    }
   ],
   "source": [
    "agg_df = df.loc[(df.index <= \"2007-04-30\") & (df.index >= \"2007-01-01\")].groupby([\"Date\"])[\"Global_active_power\", \n",
    "\"Global_reactive_power\", \"Voltage\", \"Global_intensity\", \"Sub_metering_1\", \"Sub_metering_2\", \"Sub_metering_3\"].mean()\n",
    "\n",
    "plt.plot(agg_df.index, agg_df.Global_active_power)\n",
    "plt.plot(agg_df.index, agg_df.Sub_metering_1)\n",
    "plt.legend('GS', ncol=2, loc='upper left')\n",
    "locs, labels = plt.xticks()\n",
    "plt.setp(labels, rotation=30)\n",
    "1"
   ]
  },
  {
   "cell_type": "markdown",
   "metadata": {},
   "source": [
    "On ajoute des informations de température pour cette étude : les données utiles étant disponibles ici https://bitbucket.org/portierf/shared_files/downloads/TG_STAID011249.txt. \n",
    "Ici les températures relevées sont celles d’Orly (noter cependant qu’on ne connaît pas le lieux de relève de la précédente base de données)."
   ]
  },
  {
   "cell_type": "markdown",
   "metadata": {},
   "source": [
    "15) Charger les données avec pandas, et ne garder que les colonnes DATE et TG. Diviser par 10 la colonne TG pour obtenir des températures en degrés Celsius. Traiter les éléments de température aberrants comme des NaN."
   ]
  },
  {
   "cell_type": "code",
   "execution_count": 51,
   "metadata": {},
   "outputs": [
    {
     "data": {
      "text/html": [
       "<div>\n",
       "<style scoped>\n",
       "    .dataframe tbody tr th:only-of-type {\n",
       "        vertical-align: middle;\n",
       "    }\n",
       "\n",
       "    .dataframe tbody tr th {\n",
       "        vertical-align: top;\n",
       "    }\n",
       "\n",
       "    .dataframe thead th {\n",
       "        text-align: right;\n",
       "    }\n",
       "</style>\n",
       "<table border=\"1\" class=\"dataframe\">\n",
       "  <thead>\n",
       "    <tr style=\"text-align: right;\">\n",
       "      <th></th>\n",
       "      <th>TG</th>\n",
       "    </tr>\n",
       "    <tr>\n",
       "      <th>DATE</th>\n",
       "      <th></th>\n",
       "    </tr>\n",
       "  </thead>\n",
       "  <tbody>\n",
       "    <tr>\n",
       "      <th>1921-03-01</th>\n",
       "      <td>5.0</td>\n",
       "    </tr>\n",
       "    <tr>\n",
       "      <th>1921-03-02</th>\n",
       "      <td>4.6</td>\n",
       "    </tr>\n",
       "    <tr>\n",
       "      <th>1921-03-03</th>\n",
       "      <td>4.6</td>\n",
       "    </tr>\n",
       "    <tr>\n",
       "      <th>1921-03-04</th>\n",
       "      <td>3.1</td>\n",
       "    </tr>\n",
       "    <tr>\n",
       "      <th>1921-03-05</th>\n",
       "      <td>9.5</td>\n",
       "    </tr>\n",
       "  </tbody>\n",
       "</table>\n",
       "</div>"
      ],
      "text/plain": [
       "             TG\n",
       "DATE           \n",
       "1921-03-01  5.0\n",
       "1921-03-02  4.6\n",
       "1921-03-03  4.6\n",
       "1921-03-04  3.1\n",
       "1921-03-05  9.5"
      ]
     },
     "execution_count": 51,
     "metadata": {},
     "output_type": "execute_result"
    }
   ],
   "source": [
    "url = \"https://bitbucket.org/portierf/shared_files/downloads/TG_STAID011249.txt\"\n",
    "df2 = pd.read_csv(url, delimiter=\",\", comment=\"#\")\n",
    "df2.columns = [c.strip() for c in df2.columns]\n",
    "df2[\"DATE\"] = pd.to_datetime(df2[\"DATE\"], format=\"%Y%m%d\")\n",
    "df2 = df2[[\"DATE\", \"TG\"]].set_index([\"DATE\"])\n",
    "df2['TG'] = df2['TG'].apply(lambda x: x/10)\n",
    "df2.head()"
   ]
  },
  {
   "cell_type": "code",
   "execution_count": 56,
   "metadata": {},
   "outputs": [
    {
     "data": {
      "text/plain": [
       "TG    0\n",
       "dtype: int64"
      ]
     },
     "metadata": {},
     "output_type": "display_data"
    }
   ],
   "source": [
    "import numpy as np\n",
    "df2[\"TG\"] = df2[\"TG\"].replace(-9999, np.nan)\n",
    "display(df2.isnull().sum())\n",
    "df2 = df2.dropna()"
   ]
  },
  {
   "cell_type": "markdown",
   "metadata": {},
   "source": [
    "16) Créer un DataFrame pandas des températures journalières entre le 1er janvier et le 30 avril 2007. Afficher sur un même graphique ces températures et la séries Global_active_power."
   ]
  },
  {
   "cell_type": "code",
   "execution_count": 62,
   "metadata": {},
   "outputs": [],
   "source": [
    "import matplotlib.pyplot as plt\n",
    "plt.style.use('classic')\n",
    "%matplotlib inline\n",
    "import seaborn as sns\n",
    "sns.set(rc={'figure.figsize':(11.7,8.27)})"
   ]
  },
  {
   "cell_type": "code",
   "execution_count": 72,
   "metadata": {},
   "outputs": [
    {
     "data": {
      "text/plain": [
       "[None,\n",
       " None,\n",
       " None,\n",
       " None,\n",
       " None,\n",
       " None,\n",
       " None,\n",
       " None,\n",
       " None,\n",
       " None,\n",
       " None,\n",
       " None,\n",
       " None,\n",
       " None,\n",
       " None,\n",
       " None,\n",
       " None,\n",
       " None]"
      ]
     },
     "execution_count": 72,
     "metadata": {},
     "output_type": "execute_result"
    },
    {
     "data": {
      "image/png": "[encoded data removed]",
      "text/plain": [
       "<Figure size 842.4x595.44 with 1 Axes>"
      ]
     },
     "metadata": {},
     "output_type": "display_data"
    }
   ],
   "source": [
    "agg_df2 = df2.loc[(df2.index <= \"2007-04-30\") & (df2.index >= \"2007-01-01\")]\n",
    "\n",
    "plt.plot(agg_df2.index, agg_df2.TG)\n",
    "plt.plot(agg_df.index, agg_df.Global_active_power)\n",
    "plt.legend('TG', ncol=2, loc='upper left')\n",
    "locs, labels = plt.xticks()\n",
    "plt.setp(labels, rotation=30)"
   ]
  }
 ],
 "metadata": {
  "kernelspec": {
   "display_name": "Python 3",
   "language": "python",
   "name": "python3"
  },
  "language_info": {
   "codemirror_mode": {
    "name": "ipython",
    "version": 3
   },
   "file_extension": ".py",
   "mimetype": "text/x-python",
   "name": "python",
   "nbconvert_exporter": "python",
   "pygments_lexer": "ipython3",
   "version": "3.5.5"
  }
 },
 "nbformat": 4,
 "nbformat_minor": 2
}
